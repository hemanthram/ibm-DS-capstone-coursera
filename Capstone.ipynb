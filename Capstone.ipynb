{
 "cells": [
  {
   "cell_type": "markdown",
   "metadata": {},
   "source": [
    "## Part 1 - Fetching Data"
   ]
  },
  {
   "cell_type": "markdown",
   "metadata": {},
   "source": [
    "Importing required Libraries"
   ]
  },
  {
   "cell_type": "code",
   "execution_count": 1,
   "metadata": {},
   "outputs": [],
   "source": [
    "import pandas as pd\n",
    "from geopy.geocoders import Nominatim\n",
    "import folium\n",
    "import requests\n",
    "from pandas.io.json import json_normalize\n",
    "import numpy as np\n",
    "from sklearn.cluster import KMeans\n",
    "import matplotlib.cm as cm\n",
    "import matplotlib.colors as colors"
   ]
  },
  {
   "cell_type": "markdown",
   "metadata": {},
   "source": [
    "Loading Table using $pd.read\\_html$ and renaming columns and dropping the first row which has column names."
   ]
  },
  {
   "cell_type": "code",
   "execution_count": 2,
   "metadata": {},
   "outputs": [
    {
     "data": {
      "text/html": [
       "<div>\n",
       "<style scoped>\n",
       "    .dataframe tbody tr th:only-of-type {\n",
       "        vertical-align: middle;\n",
       "    }\n",
       "\n",
       "    .dataframe tbody tr th {\n",
       "        vertical-align: top;\n",
       "    }\n",
       "\n",
       "    .dataframe thead th {\n",
       "        text-align: right;\n",
       "    }\n",
       "</style>\n",
       "<table border=\"1\" class=\"dataframe\">\n",
       "  <thead>\n",
       "    <tr style=\"text-align: right;\">\n",
       "      <th></th>\n",
       "      <th>PostalCode</th>\n",
       "      <th>Borough</th>\n",
       "      <th>Neighbourhood</th>\n",
       "    </tr>\n",
       "  </thead>\n",
       "  <tbody>\n",
       "    <tr>\n",
       "      <th>0</th>\n",
       "      <td>M1B</td>\n",
       "      <td>Scarborough</td>\n",
       "      <td>Malvern, Rouge</td>\n",
       "    </tr>\n",
       "    <tr>\n",
       "      <th>1</th>\n",
       "      <td>M1C</td>\n",
       "      <td>Scarborough</td>\n",
       "      <td>Rouge Hill, Port Union, Highland Creek</td>\n",
       "    </tr>\n",
       "    <tr>\n",
       "      <th>2</th>\n",
       "      <td>M1E</td>\n",
       "      <td>Scarborough</td>\n",
       "      <td>Guildwood, Morningside, West Hill</td>\n",
       "    </tr>\n",
       "    <tr>\n",
       "      <th>3</th>\n",
       "      <td>M1G</td>\n",
       "      <td>Scarborough</td>\n",
       "      <td>Woburn</td>\n",
       "    </tr>\n",
       "    <tr>\n",
       "      <th>4</th>\n",
       "      <td>M1H</td>\n",
       "      <td>Scarborough</td>\n",
       "      <td>Cedarbrae</td>\n",
       "    </tr>\n",
       "  </tbody>\n",
       "</table>\n",
       "</div>"
      ],
      "text/plain": [
       "  PostalCode      Borough                           Neighbourhood\n",
       "0        M1B  Scarborough                          Malvern, Rouge\n",
       "1        M1C  Scarborough  Rouge Hill, Port Union, Highland Creek\n",
       "2        M1E  Scarborough       Guildwood, Morningside, West Hill\n",
       "3        M1G  Scarborough                                  Woburn\n",
       "4        M1H  Scarborough                               Cedarbrae"
      ]
     },
     "execution_count": 2,
     "metadata": {},
     "output_type": "execute_result"
    }
   ],
   "source": [
    "df = pd.read_html(\"https://en.wikipedia.org/wiki/List_of_postal_codes_of_Canada:_M\")[0]\n",
    "df.columns = [\"PostalCode\",\"Borough\",\"Neighbourhood\"]\n",
    "df.drop(0,axis=0,inplace=True)\n",
    "df.sort_values(by=\"PostalCode\",inplace=True)\n",
    "df.reset_index(drop=True,inplace=True)\n",
    "df.head()"
   ]
  },
  {
   "cell_type": "markdown",
   "metadata": {},
   "source": [
    "Ignoring rows which have not been assigned a borough."
   ]
  },
  {
   "cell_type": "code",
   "execution_count": 3,
   "metadata": {},
   "outputs": [
    {
     "data": {
      "text/html": [
       "<div>\n",
       "<style scoped>\n",
       "    .dataframe tbody tr th:only-of-type {\n",
       "        vertical-align: middle;\n",
       "    }\n",
       "\n",
       "    .dataframe tbody tr th {\n",
       "        vertical-align: top;\n",
       "    }\n",
       "\n",
       "    .dataframe thead th {\n",
       "        text-align: right;\n",
       "    }\n",
       "</style>\n",
       "<table border=\"1\" class=\"dataframe\">\n",
       "  <thead>\n",
       "    <tr style=\"text-align: right;\">\n",
       "      <th></th>\n",
       "      <th>PostalCode</th>\n",
       "      <th>Borough</th>\n",
       "      <th>Neighbourhood</th>\n",
       "    </tr>\n",
       "  </thead>\n",
       "  <tbody>\n",
       "    <tr>\n",
       "      <th>0</th>\n",
       "      <td>M1B</td>\n",
       "      <td>Scarborough</td>\n",
       "      <td>Malvern, Rouge</td>\n",
       "    </tr>\n",
       "    <tr>\n",
       "      <th>1</th>\n",
       "      <td>M1C</td>\n",
       "      <td>Scarborough</td>\n",
       "      <td>Rouge Hill, Port Union, Highland Creek</td>\n",
       "    </tr>\n",
       "    <tr>\n",
       "      <th>2</th>\n",
       "      <td>M1E</td>\n",
       "      <td>Scarborough</td>\n",
       "      <td>Guildwood, Morningside, West Hill</td>\n",
       "    </tr>\n",
       "    <tr>\n",
       "      <th>3</th>\n",
       "      <td>M1G</td>\n",
       "      <td>Scarborough</td>\n",
       "      <td>Woburn</td>\n",
       "    </tr>\n",
       "    <tr>\n",
       "      <th>4</th>\n",
       "      <td>M1H</td>\n",
       "      <td>Scarborough</td>\n",
       "      <td>Cedarbrae</td>\n",
       "    </tr>\n",
       "  </tbody>\n",
       "</table>\n",
       "</div>"
      ],
      "text/plain": [
       "  PostalCode      Borough                           Neighbourhood\n",
       "0        M1B  Scarborough                          Malvern, Rouge\n",
       "1        M1C  Scarborough  Rouge Hill, Port Union, Highland Creek\n",
       "2        M1E  Scarborough       Guildwood, Morningside, West Hill\n",
       "3        M1G  Scarborough                                  Woburn\n",
       "4        M1H  Scarborough                               Cedarbrae"
      ]
     },
     "execution_count": 3,
     "metadata": {},
     "output_type": "execute_result"
    }
   ],
   "source": [
    "df = df[df[\"Borough\"] != \"Not assigned\"]\n",
    "df.reset_index(inplace=True, drop=True)\n",
    "df.head()"
   ]
  },
  {
   "cell_type": "markdown",
   "metadata": {},
   "source": [
    "Checking if any Neighbourhoods have not been assigned."
   ]
  },
  {
   "cell_type": "code",
   "execution_count": 4,
   "metadata": {},
   "outputs": [
    {
     "data": {
      "text/html": [
       "<div>\n",
       "<style scoped>\n",
       "    .dataframe tbody tr th:only-of-type {\n",
       "        vertical-align: middle;\n",
       "    }\n",
       "\n",
       "    .dataframe tbody tr th {\n",
       "        vertical-align: top;\n",
       "    }\n",
       "\n",
       "    .dataframe thead th {\n",
       "        text-align: right;\n",
       "    }\n",
       "</style>\n",
       "<table border=\"1\" class=\"dataframe\">\n",
       "  <thead>\n",
       "    <tr style=\"text-align: right;\">\n",
       "      <th></th>\n",
       "      <th>PostalCode</th>\n",
       "      <th>Borough</th>\n",
       "      <th>Neighbourhood</th>\n",
       "    </tr>\n",
       "  </thead>\n",
       "  <tbody>\n",
       "  </tbody>\n",
       "</table>\n",
       "</div>"
      ],
      "text/plain": [
       "Empty DataFrame\n",
       "Columns: [PostalCode, Borough, Neighbourhood]\n",
       "Index: []"
      ]
     },
     "execution_count": 4,
     "metadata": {},
     "output_type": "execute_result"
    }
   ],
   "source": [
    "df[df[\"Neighbourhood\"]==\"Not assigned\"]"
   ]
  },
  {
   "cell_type": "markdown",
   "metadata": {},
   "source": [
    "As everthing has been assigned. Our data is now ready and we can proceed. Now, we see the shape of data."
   ]
  },
  {
   "cell_type": "code",
   "execution_count": 5,
   "metadata": {},
   "outputs": [
    {
     "name": "stdout",
     "output_type": "stream",
     "text": [
      "(103, 3)\n"
     ]
    }
   ],
   "source": [
    "print(df.shape)"
   ]
  },
  {
   "cell_type": "markdown",
   "metadata": {},
   "source": [
    "## Part 2 - Adding Latitudes and Longitudes"
   ]
  },
  {
   "cell_type": "markdown",
   "metadata": {},
   "source": [
    "Adding Latitude and Longitude from the csv file provided."
   ]
  },
  {
   "cell_type": "code",
   "execution_count": 6,
   "metadata": {},
   "outputs": [
    {
     "data": {
      "text/html": [
       "<div>\n",
       "<style scoped>\n",
       "    .dataframe tbody tr th:only-of-type {\n",
       "        vertical-align: middle;\n",
       "    }\n",
       "\n",
       "    .dataframe tbody tr th {\n",
       "        vertical-align: top;\n",
       "    }\n",
       "\n",
       "    .dataframe thead th {\n",
       "        text-align: right;\n",
       "    }\n",
       "</style>\n",
       "<table border=\"1\" class=\"dataframe\">\n",
       "  <thead>\n",
       "    <tr style=\"text-align: right;\">\n",
       "      <th></th>\n",
       "      <th>PostalCode</th>\n",
       "      <th>Borough</th>\n",
       "      <th>Neighbourhood</th>\n",
       "      <th>Latitude</th>\n",
       "      <th>Longitude</th>\n",
       "    </tr>\n",
       "  </thead>\n",
       "  <tbody>\n",
       "    <tr>\n",
       "      <th>0</th>\n",
       "      <td>M1B</td>\n",
       "      <td>Scarborough</td>\n",
       "      <td>Malvern, Rouge</td>\n",
       "      <td>43.806686</td>\n",
       "      <td>-79.194353</td>\n",
       "    </tr>\n",
       "    <tr>\n",
       "      <th>1</th>\n",
       "      <td>M1C</td>\n",
       "      <td>Scarborough</td>\n",
       "      <td>Rouge Hill, Port Union, Highland Creek</td>\n",
       "      <td>43.784535</td>\n",
       "      <td>-79.160497</td>\n",
       "    </tr>\n",
       "    <tr>\n",
       "      <th>2</th>\n",
       "      <td>M1E</td>\n",
       "      <td>Scarborough</td>\n",
       "      <td>Guildwood, Morningside, West Hill</td>\n",
       "      <td>43.763573</td>\n",
       "      <td>-79.188711</td>\n",
       "    </tr>\n",
       "    <tr>\n",
       "      <th>3</th>\n",
       "      <td>M1G</td>\n",
       "      <td>Scarborough</td>\n",
       "      <td>Woburn</td>\n",
       "      <td>43.770992</td>\n",
       "      <td>-79.216917</td>\n",
       "    </tr>\n",
       "    <tr>\n",
       "      <th>4</th>\n",
       "      <td>M1H</td>\n",
       "      <td>Scarborough</td>\n",
       "      <td>Cedarbrae</td>\n",
       "      <td>43.773136</td>\n",
       "      <td>-79.239476</td>\n",
       "    </tr>\n",
       "  </tbody>\n",
       "</table>\n",
       "</div>"
      ],
      "text/plain": [
       "  PostalCode      Borough                           Neighbourhood   Latitude  \\\n",
       "0        M1B  Scarborough                          Malvern, Rouge  43.806686   \n",
       "1        M1C  Scarborough  Rouge Hill, Port Union, Highland Creek  43.784535   \n",
       "2        M1E  Scarborough       Guildwood, Morningside, West Hill  43.763573   \n",
       "3        M1G  Scarborough                                  Woburn  43.770992   \n",
       "4        M1H  Scarborough                               Cedarbrae  43.773136   \n",
       "\n",
       "   Longitude  \n",
       "0 -79.194353  \n",
       "1 -79.160497  \n",
       "2 -79.188711  \n",
       "3 -79.216917  \n",
       "4 -79.239476  "
      ]
     },
     "execution_count": 6,
     "metadata": {},
     "output_type": "execute_result"
    }
   ],
   "source": [
    "geocodes = pd.read_csv(\"Geospatial_Coordinates.csv\")\n",
    "geocodes.sort_values(by=\"Postal Code\", inplace=True, axis=0)\n",
    "df[\"Latitude\"] = geocodes[\"Latitude\"]\n",
    "df[\"Longitude\"] = geocodes[\"Longitude\"]\n",
    "df.head()"
   ]
  },
  {
   "cell_type": "markdown",
   "metadata": {},
   "source": [
    "Getting Borough names which have 'Toronto' in it."
   ]
  },
  {
   "cell_type": "code",
   "execution_count": 7,
   "metadata": {},
   "outputs": [
    {
     "data": {
      "text/plain": [
       "['East Toronto', 'Central Toronto', 'Downtown Toronto', 'West Toronto']"
      ]
     },
     "execution_count": 7,
     "metadata": {},
     "output_type": "execute_result"
    }
   ],
   "source": [
    "all_borough = df[\"Borough\"].unique()\n",
    "toronto_borough = []\n",
    "for name in all_borough:\n",
    "    if(name.find(\"Toronto\") != -1):\n",
    "        toronto_borough.append(name)\n",
    "toronto_borough"
   ]
  },
  {
   "cell_type": "markdown",
   "metadata": {},
   "source": [
    "Extrating neighbouhoods only in Toronto."
   ]
  },
  {
   "cell_type": "code",
   "execution_count": 8,
   "metadata": {},
   "outputs": [
    {
     "data": {
      "text/html": [
       "<div>\n",
       "<style scoped>\n",
       "    .dataframe tbody tr th:only-of-type {\n",
       "        vertical-align: middle;\n",
       "    }\n",
       "\n",
       "    .dataframe tbody tr th {\n",
       "        vertical-align: top;\n",
       "    }\n",
       "\n",
       "    .dataframe thead th {\n",
       "        text-align: right;\n",
       "    }\n",
       "</style>\n",
       "<table border=\"1\" class=\"dataframe\">\n",
       "  <thead>\n",
       "    <tr style=\"text-align: right;\">\n",
       "      <th></th>\n",
       "      <th>PostalCode</th>\n",
       "      <th>Borough</th>\n",
       "      <th>Neighbourhood</th>\n",
       "      <th>Latitude</th>\n",
       "      <th>Longitude</th>\n",
       "    </tr>\n",
       "  </thead>\n",
       "  <tbody>\n",
       "    <tr>\n",
       "      <th>0</th>\n",
       "      <td>M4E</td>\n",
       "      <td>East Toronto</td>\n",
       "      <td>The Beaches</td>\n",
       "      <td>43.676357</td>\n",
       "      <td>-79.293031</td>\n",
       "    </tr>\n",
       "    <tr>\n",
       "      <th>1</th>\n",
       "      <td>M4K</td>\n",
       "      <td>East Toronto</td>\n",
       "      <td>The Danforth West, Riverdale</td>\n",
       "      <td>43.679557</td>\n",
       "      <td>-79.352188</td>\n",
       "    </tr>\n",
       "    <tr>\n",
       "      <th>2</th>\n",
       "      <td>M4L</td>\n",
       "      <td>East Toronto</td>\n",
       "      <td>India Bazaar, The Beaches West</td>\n",
       "      <td>43.668999</td>\n",
       "      <td>-79.315572</td>\n",
       "    </tr>\n",
       "    <tr>\n",
       "      <th>3</th>\n",
       "      <td>M4M</td>\n",
       "      <td>East Toronto</td>\n",
       "      <td>Studio District</td>\n",
       "      <td>43.659526</td>\n",
       "      <td>-79.340923</td>\n",
       "    </tr>\n",
       "    <tr>\n",
       "      <th>4</th>\n",
       "      <td>M4N</td>\n",
       "      <td>Central Toronto</td>\n",
       "      <td>Lawrence Park</td>\n",
       "      <td>43.728020</td>\n",
       "      <td>-79.388790</td>\n",
       "    </tr>\n",
       "  </tbody>\n",
       "</table>\n",
       "</div>"
      ],
      "text/plain": [
       "  PostalCode          Borough                   Neighbourhood   Latitude  \\\n",
       "0        M4E     East Toronto                     The Beaches  43.676357   \n",
       "1        M4K     East Toronto    The Danforth West, Riverdale  43.679557   \n",
       "2        M4L     East Toronto  India Bazaar, The Beaches West  43.668999   \n",
       "3        M4M     East Toronto                 Studio District  43.659526   \n",
       "4        M4N  Central Toronto                   Lawrence Park  43.728020   \n",
       "\n",
       "   Longitude  \n",
       "0 -79.293031  \n",
       "1 -79.352188  \n",
       "2 -79.315572  \n",
       "3 -79.340923  \n",
       "4 -79.388790  "
      ]
     },
     "execution_count": 8,
     "metadata": {},
     "output_type": "execute_result"
    }
   ],
   "source": [
    "toronto_df = df[df[\"Borough\"].isin(toronto_borough)]\n",
    "toronto_df.reset_index(drop=True, inplace=True)\n",
    "toronto_df.head()"
   ]
  },
  {
   "cell_type": "markdown",
   "metadata": {},
   "source": [
    "Getting the latitude and longitude of Toronto to view the neighbourhoods in the map using $folium$."
   ]
  },
  {
   "cell_type": "code",
   "execution_count": 9,
   "metadata": {},
   "outputs": [
    {
     "name": "stdout",
     "output_type": "stream",
     "text": [
      "The geograpical coordinate of Toronto are 43.6534817, -79.3839347.\n"
     ]
    }
   ],
   "source": [
    "address = 'Toronto'\n",
    "\n",
    "geolocator = Nominatim(user_agent=\"toronto_explorer\")\n",
    "location = geolocator.geocode(address)\n",
    "latitude = location.latitude\n",
    "longitude = location.longitude\n",
    "print('The geograpical coordinate of Toronto are {}, {}.'.format(latitude, longitude))"
   ]
  },
  {
   "cell_type": "code",
   "execution_count": 10,
   "metadata": {
    "scrolled": false
   },
   "outputs": [
    {
     "data": {
      "text/html": [
       "<div style=\"width:100%;\"><div style=\"position:relative;width:100%;height:0;padding-bottom:60%;\"><span style=\"color:#565656\">Make this Notebook Trusted to load map: File -> Trust Notebook</span><iframe src=\"about:blank\" style=\"position:absolute;width:100%;height:100%;left:0;top:0;border:none !important;\" data-html=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 onload=\"this.contentDocument.open();this.contentDocument.write(atob(this.getAttribute('data-html')));this.contentDocument.close();\" allowfullscreen webkitallowfullscreen mozallowfullscreen></iframe></div></div>"
      ],
      "text/plain": [
       "<folium.folium.Map at 0x2004daf8780>"
      ]
     },
     "execution_count": 10,
     "metadata": {},
     "output_type": "execute_result"
    }
   ],
   "source": [
    "# create map of Toronto using latitude and longitude values\n",
    "map_toronto = folium.Map(location=[latitude, longitude], zoom_start=13)\n",
    "\n",
    "# add markers to map\n",
    "for lat, lng, borough, neighborhood in zip(toronto_df['Latitude'], toronto_df['Longitude'], toronto_df['Borough'], toronto_df['Neighbourhood']):\n",
    "    label = '{}, {}'.format(neighborhood, borough)\n",
    "    label = folium.Popup(label, parse_html=True)\n",
    "    folium.CircleMarker(\n",
    "        [lat, lng],\n",
    "        radius=5,\n",
    "        popup=label,\n",
    "        color='blue',\n",
    "        fill=True,\n",
    "        fill_color='#3186cc',\n",
    "        fill_opacity=0.7,\n",
    "        parse_html=False).add_to(map_toronto)  \n",
    "    \n",
    "map_toronto"
   ]
  },
  {
   "cell_type": "markdown",
   "metadata": {},
   "source": [
    "## Part 3 - Analysis"
   ]
  },
  {
   "cell_type": "markdown",
   "metadata": {},
   "source": [
    "Setting up the credentials for using the $FourSquare$ api."
   ]
  },
  {
   "cell_type": "code",
   "execution_count": 11,
   "metadata": {},
   "outputs": [
    {
     "name": "stdout",
     "output_type": "stream",
     "text": [
      "Your credentails:\n",
      "CLIENT_ID: Z2S2Z4PA4RQ55W2XYRMBYTCSUCAKSF5GOPLNXMECCYLICCAR\n",
      "CLIENT_SECRET:5JXJPO1TIZHSEUSW4VN5IW2QHZB3B5HJF22NGEO02RXARZNE\n"
     ]
    }
   ],
   "source": [
    "with open('secrets.txt','r') as f:\n",
    "    secrets = f.readlines()\n",
    "CLIENT_ID = secrets[0].strip('\\n') # your Foursquare ID\n",
    "CLIENT_SECRET = secrets[1].strip('\\n') # your Foursquare Secret\n",
    "VERSION = '20180604'\n",
    "print('Your credentails:')\n",
    "print('CLIENT_ID: ' + CLIENT_ID)\n",
    "print('CLIENT_SECRET:' + CLIENT_SECRET)"
   ]
  },
  {
   "cell_type": "markdown",
   "metadata": {},
   "source": [
    "Function to contruct the dataFrame which contains the information about venues surrounding a neighbourhood."
   ]
  },
  {
   "cell_type": "code",
   "execution_count": 14,
   "metadata": {},
   "outputs": [],
   "source": [
    "def getNearbyVenues(names, latitudes, longitudes, radius=500):\n",
    "    LIMIT = 100\n",
    "    venues_list=[]\n",
    "    for name, lat, lng in zip(names, latitudes, longitudes):\n",
    "        print(name)\n",
    "            \n",
    "        # create the API request URL\n",
    "        url = 'https://api.foursquare.com/v2/venues/explore?&client_id={}&client_secret={}&v={}&ll={},{}&radius={}&limit={}'.format(\n",
    "            CLIENT_ID, \n",
    "            CLIENT_SECRET, \n",
    "            VERSION, \n",
    "            lat, \n",
    "            lng, \n",
    "            radius, \n",
    "            LIMIT)\n",
    "            \n",
    "        # make the GET request\n",
    "        results = requests.get(url).json()[\"response\"]['groups'][0]['items']\n",
    "        \n",
    "        # return only relevant information for each nearby venue\n",
    "        venues_list.append([(\n",
    "            name, \n",
    "            lat, \n",
    "            lng, \n",
    "            v['venue']['name'], \n",
    "            v['venue']['location']['lat'], \n",
    "            v['venue']['location']['lng'],  \n",
    "            v['venue']['categories'][0]['name']) for v in results])\n",
    "\n",
    "    nearby_venues = pd.DataFrame([item for venue_list in venues_list for item in venue_list])\n",
    "    nearby_venues.columns = ['Neighborhood', \n",
    "                  'Neighborhood Latitude', \n",
    "                  'Neighborhood Longitude', \n",
    "                  'Venue', \n",
    "                  'Venue Latitude', \n",
    "                  'Venue Longitude', \n",
    "                  'Venue Category']\n",
    "    \n",
    "    return(nearby_venues)"
   ]
  },
  {
   "cell_type": "code",
   "execution_count": 15,
   "metadata": {},
   "outputs": [
    {
     "name": "stdout",
     "output_type": "stream",
     "text": [
      "The Beaches\n",
      "The Danforth West, Riverdale\n",
      "India Bazaar, The Beaches West\n",
      "Studio District\n",
      "Lawrence Park\n",
      "Davisville North\n",
      "North Toronto West, Lawrence Park\n",
      "Davisville\n",
      "Moore Park, Summerhill East\n",
      "Summerhill West, Rathnelly, South Hill, Forest Hill SE, Deer Park\n",
      "Rosedale\n",
      "St. James Town, Cabbagetown\n",
      "Church and Wellesley\n",
      "Regent Park, Harbourfront\n",
      "Garden District, Ryerson\n",
      "St. James Town\n",
      "Berczy Park\n",
      "Central Bay Street\n",
      "Richmond, Adelaide, King\n",
      "Harbourfront East, Union Station, Toronto Islands\n",
      "Toronto Dominion Centre, Design Exchange\n",
      "Commerce Court, Victoria Hotel\n",
      "Roselawn\n",
      "Forest Hill North & West, Forest Hill Road Park\n",
      "The Annex, North Midtown, Yorkville\n",
      "University of Toronto, Harbord\n",
      "Kensington Market, Chinatown, Grange Park\n",
      "CN Tower, King and Spadina, Railway Lands, Harbourfront West, Bathurst Quay, South Niagara, Island airport\n",
      "Stn A PO Boxes\n",
      "First Canadian Place, Underground city\n",
      "Christie\n",
      "Dufferin, Dovercourt Village\n",
      "Little Portugal, Trinity\n",
      "Brockton, Parkdale Village, Exhibition Place\n",
      "High Park, The Junction South\n",
      "Parkdale, Roncesvalles\n",
      "Runnymede, Swansea\n",
      "Queen's Park, Ontario Provincial Government\n",
      "Business reply mail Processing Centre, South Central Letter Processing Plant Toronto\n"
     ]
    }
   ],
   "source": [
    "toronto_venues = getNearbyVenues(toronto_df[\"Neighbourhood\"], toronto_df[\"Latitude\"], toronto_df[\"Longitude\"])"
   ]
  },
  {
   "cell_type": "code",
   "execution_count": 16,
   "metadata": {},
   "outputs": [
    {
     "name": "stdout",
     "output_type": "stream",
     "text": [
      "39 venues returned\n"
     ]
    },
    {
     "data": {
      "text/html": [
       "<div>\n",
       "<style scoped>\n",
       "    .dataframe tbody tr th:only-of-type {\n",
       "        vertical-align: middle;\n",
       "    }\n",
       "\n",
       "    .dataframe tbody tr th {\n",
       "        vertical-align: top;\n",
       "    }\n",
       "\n",
       "    .dataframe thead th {\n",
       "        text-align: right;\n",
       "    }\n",
       "</style>\n",
       "<table border=\"1\" class=\"dataframe\">\n",
       "  <thead>\n",
       "    <tr style=\"text-align: right;\">\n",
       "      <th></th>\n",
       "      <th>Neighborhood Latitude</th>\n",
       "      <th>Neighborhood Longitude</th>\n",
       "      <th>Venue</th>\n",
       "      <th>Venue Latitude</th>\n",
       "      <th>Venue Longitude</th>\n",
       "      <th>Venue Category</th>\n",
       "    </tr>\n",
       "    <tr>\n",
       "      <th>Neighborhood</th>\n",
       "      <th></th>\n",
       "      <th></th>\n",
       "      <th></th>\n",
       "      <th></th>\n",
       "      <th></th>\n",
       "      <th></th>\n",
       "    </tr>\n",
       "  </thead>\n",
       "  <tbody>\n",
       "    <tr>\n",
       "      <th>Berczy Park</th>\n",
       "      <td>57</td>\n",
       "      <td>57</td>\n",
       "      <td>57</td>\n",
       "      <td>57</td>\n",
       "      <td>57</td>\n",
       "      <td>57</td>\n",
       "    </tr>\n",
       "    <tr>\n",
       "      <th>Brockton, Parkdale Village, Exhibition Place</th>\n",
       "      <td>22</td>\n",
       "      <td>22</td>\n",
       "      <td>22</td>\n",
       "      <td>22</td>\n",
       "      <td>22</td>\n",
       "      <td>22</td>\n",
       "    </tr>\n",
       "    <tr>\n",
       "      <th>Business reply mail Processing Centre, South Central Letter Processing Plant Toronto</th>\n",
       "      <td>16</td>\n",
       "      <td>16</td>\n",
       "      <td>16</td>\n",
       "      <td>16</td>\n",
       "      <td>16</td>\n",
       "      <td>16</td>\n",
       "    </tr>\n",
       "    <tr>\n",
       "      <th>CN Tower, King and Spadina, Railway Lands, Harbourfront West, Bathurst Quay, South Niagara, Island airport</th>\n",
       "      <td>16</td>\n",
       "      <td>16</td>\n",
       "      <td>16</td>\n",
       "      <td>16</td>\n",
       "      <td>16</td>\n",
       "      <td>16</td>\n",
       "    </tr>\n",
       "    <tr>\n",
       "      <th>Central Bay Street</th>\n",
       "      <td>68</td>\n",
       "      <td>68</td>\n",
       "      <td>68</td>\n",
       "      <td>68</td>\n",
       "      <td>68</td>\n",
       "      <td>68</td>\n",
       "    </tr>\n",
       "  </tbody>\n",
       "</table>\n",
       "</div>"
      ],
      "text/plain": [
       "                                                    Neighborhood Latitude  \\\n",
       "Neighborhood                                                                \n",
       "Berczy Park                                                            57   \n",
       "Brockton, Parkdale Village, Exhibition Place                           22   \n",
       "Business reply mail Processing Centre, South Ce...                     16   \n",
       "CN Tower, King and Spadina, Railway Lands, Harb...                     16   \n",
       "Central Bay Street                                                     68   \n",
       "\n",
       "                                                    Neighborhood Longitude  \\\n",
       "Neighborhood                                                                 \n",
       "Berczy Park                                                             57   \n",
       "Brockton, Parkdale Village, Exhibition Place                            22   \n",
       "Business reply mail Processing Centre, South Ce...                      16   \n",
       "CN Tower, King and Spadina, Railway Lands, Harb...                      16   \n",
       "Central Bay Street                                                      68   \n",
       "\n",
       "                                                    Venue  Venue Latitude  \\\n",
       "Neighborhood                                                                \n",
       "Berczy Park                                            57              57   \n",
       "Brockton, Parkdale Village, Exhibition Place           22              22   \n",
       "Business reply mail Processing Centre, South Ce...     16              16   \n",
       "CN Tower, King and Spadina, Railway Lands, Harb...     16              16   \n",
       "Central Bay Street                                     68              68   \n",
       "\n",
       "                                                    Venue Longitude  \\\n",
       "Neighborhood                                                          \n",
       "Berczy Park                                                      57   \n",
       "Brockton, Parkdale Village, Exhibition Place                     22   \n",
       "Business reply mail Processing Centre, South Ce...               16   \n",
       "CN Tower, King and Spadina, Railway Lands, Harb...               16   \n",
       "Central Bay Street                                               68   \n",
       "\n",
       "                                                    Venue Category  \n",
       "Neighborhood                                                        \n",
       "Berczy Park                                                     57  \n",
       "Brockton, Parkdale Village, Exhibition Place                    22  \n",
       "Business reply mail Processing Centre, South Ce...              16  \n",
       "CN Tower, King and Spadina, Railway Lands, Harb...              16  \n",
       "Central Bay Street                                              68  "
      ]
     },
     "execution_count": 16,
     "metadata": {},
     "output_type": "execute_result"
    }
   ],
   "source": [
    "count = toronto_venues[\"Neighborhood\"].unique().shape[0]\n",
    "print(\"{} venues returned\".format(count))\n",
    "# toronto_venues.head()\n",
    "toronto_venues.groupby(\"Neighborhood\").count().head()"
   ]
  },
  {
   "cell_type": "markdown",
   "metadata": {},
   "source": [
    "Seeing how many different kinds of $Venue Category$ exists."
   ]
  },
  {
   "cell_type": "code",
   "execution_count": 17,
   "metadata": {},
   "outputs": [
    {
     "name": "stdout",
     "output_type": "stream",
     "text": [
      "236\n",
      "Unique Categories\n"
     ]
    },
    {
     "data": {
      "text/plain": [
       "array(['Trail', 'Health Food Store', 'Pub', 'Neighborhood',\n",
       "       'Cosmetics Shop', 'Greek Restaurant', 'Ice Cream Shop',\n",
       "       'Italian Restaurant', 'Brewery', 'Fruit & Vegetable Store',\n",
       "       'Yoga Studio', 'Juice Bar', 'Restaurant', 'Pizza Place',\n",
       "       'Bookstore', 'Bubble Tea Shop', 'Dessert Shop',\n",
       "       'Furniture / Home Store', 'Spa', 'Grocery Store', 'Coffee Shop',\n",
       "       'Bakery', 'Caribbean Restaurant', 'Japanese Restaurant',\n",
       "       'Indian Restaurant', 'Café', 'Lounge', 'Frozen Yogurt Shop',\n",
       "       'Liquor Store', 'American Restaurant', 'Gym', 'Fish & Chips Shop',\n",
       "       'Fast Food Restaurant', 'Sushi Restaurant', 'Park', 'Pet Store',\n",
       "       'Steakhouse', 'Burrito Place', 'Movie Theater', 'Sandwich Place',\n",
       "       'Board Shop', 'Fish Market', 'Gay Bar', 'Thai Restaurant',\n",
       "       'Seafood Restaurant', 'Cheese Shop', 'Comfort Food Restaurant',\n",
       "       'Middle Eastern Restaurant', 'Stationery Store', 'Coworking Space',\n",
       "       'Wine Bar', 'Latin American Restaurant', 'Gastropub',\n",
       "       'Gym / Fitness Center', 'Bar', 'Convenience Store', 'Bank',\n",
       "       'Diner', 'Clothing Store', 'Swim School', 'Bus Line',\n",
       "       'Food & Drink Shop', 'Breakfast Spot', 'Department Store', 'Hotel',\n",
       "       'Chinese Restaurant', 'Salon / Barbershop', 'Mexican Restaurant',\n",
       "       'Sporting Goods Shop', 'Toy / Game Store', 'Rental Car Location',\n",
       "       'Gas Station', 'Farmers Market', 'Gourmet Shop', 'Pharmacy',\n",
       "       'Indoor Play Area', 'Tennis Court', 'Lawyer', 'Supermarket',\n",
       "       'Sports Bar', 'Fried Chicken Joint', 'Vietnamese Restaurant',\n",
       "       'Light Rail Station', 'Bagel Shop', 'Playground', 'Jewelry Store',\n",
       "       'General Entertainment', 'Butcher', 'Deli / Bodega',\n",
       "       'Taiwanese Restaurant', 'Gift Shop', 'Market', 'Beer Store',\n",
       "       'Flower Shop', 'Snack Place', 'Dance Studio', 'Theme Restaurant',\n",
       "       'Beer Bar', 'Ramen Restaurant', 'Burger Joint', 'Creperie',\n",
       "       'Wine Shop', 'Martial Arts Dojo', 'Smoke Shop', 'Hobby Shop',\n",
       "       'Arts & Crafts Store', \"Men's Store\", 'Distribution Center',\n",
       "       'Poke Place', 'Sake Bar', 'Theater', 'Health & Beauty Service',\n",
       "       'Dog Run', 'Mediterranean Restaurant', 'Afghan Restaurant',\n",
       "       'Strip Club', 'Sculpture Garden', 'Cafeteria', 'Historic Site',\n",
       "       'Performing Arts Venue', 'Chocolate Shop', 'French Restaurant',\n",
       "       'Event Space', 'Shoe Store', 'Art Gallery', 'Asian Restaurant',\n",
       "       'Electronics Store', 'Antique Shop', 'Comic Shop', 'Tea Room',\n",
       "       'Plaza', 'Music Venue', 'College Rec Center', 'Shopping Mall',\n",
       "       'Tanning Salon', 'Modern European Restaurant',\n",
       "       'Miscellaneous Shop', 'New American Restaurant', 'Lake',\n",
       "       'Ethiopian Restaurant', 'Other Great Outdoors', 'Poutine Place',\n",
       "       'Lingerie Store', 'Hookah Bar', 'Office', 'Video Game Store',\n",
       "       'Food Truck', 'Church', 'BBQ Joint',\n",
       "       'Vegetarian / Vegan Restaurant', 'Cocktail Bar', 'Camera Store',\n",
       "       'Fountain', 'Tailor Shop', 'German Restaurant', 'Irish Pub',\n",
       "       'Bistro', 'Moroccan Restaurant', 'Belgian Restaurant',\n",
       "       'Concert Hall', 'Museum', 'Basketball Stadium', 'Jazz Club',\n",
       "       'Beach', 'Eastern European Restaurant', 'Art Museum',\n",
       "       'Falafel Restaurant', 'Discount Store', 'Salad Place',\n",
       "       'Donut Shop', 'Korean Restaurant', 'Video Store', 'Speakeasy',\n",
       "       'General Travel', 'Monument / Landmark', 'Colombian Restaurant',\n",
       "       'Brazilian Restaurant', 'Gluten-free Restaurant', \"Women's Store\",\n",
       "       'Building', 'Cupcake Shop', 'Nightclub', 'Soup Place',\n",
       "       'Skating Rink', 'IT Services', 'Roof Deck', 'Aquarium',\n",
       "       'Train Station', 'Scenic Lookout', 'Baseball Stadium',\n",
       "       'History Museum', 'Convention Center', 'Indie Movie Theater',\n",
       "       'Hotel Bar', 'Food Court', 'Taco Place', 'Garden', 'Home Service',\n",
       "       'College Gym', 'College Arts Building', 'Noodle House',\n",
       "       'Moving Target', 'Organic Grocery', 'Gaming Cafe', 'Record Shop',\n",
       "       'Doner Restaurant', 'Filipino Restaurant', 'Hospital',\n",
       "       'Bed & Breakfast', 'Smoothie Shop', 'Airport', 'Airport Lounge',\n",
       "       'Harbor / Marina', 'Airport Food Court', 'Airport Terminal',\n",
       "       'Plane', 'Boutique', 'Airport Service', 'Boat or Ferry',\n",
       "       'Molecular Gastronomy Restaurant', 'Optical Shop', 'Opera House',\n",
       "       'Candy Store', 'Baby Store', 'Cuban Restaurant',\n",
       "       'Malay Restaurant', 'Mac & Cheese Joint', 'Climbing Gym',\n",
       "       'Stadium', 'Intersection', 'Flea Market',\n",
       "       'Cajun / Creole Restaurant', 'College Auditorium', 'Skate Park',\n",
       "       'Garden Center', 'Auto Workshop'], dtype=object)"
      ]
     },
     "execution_count": 17,
     "metadata": {},
     "output_type": "execute_result"
    }
   ],
   "source": [
    "print(len(toronto_venues[\"Venue Category\"].unique()))\n",
    "print(\"Unique Categories\")\n",
    "toronto_venues[\"Venue Category\"].unique()"
   ]
  },
  {
   "cell_type": "markdown",
   "metadata": {},
   "source": [
    "Converting the different categories present into one-hot encodings to feed to it the K-means model."
   ]
  },
  {
   "cell_type": "code",
   "execution_count": null,
   "metadata": {},
   "outputs": [],
   "source": [
    "# one hot encoding\n",
    "toronto_onehot = pd.get_dummies(toronto_venues[['Venue Category']], prefix=\"\", prefix_sep=\"\")\n",
    "\n",
    "# add neighborhood column back to dataframe\n",
    "toronto_onehot['Neighbourhood'] =  toronto_venues['Neighborhood']\n",
    "\n",
    "# move neighborhood column to the first column\n",
    "fixed_columns = [toronto_onehot.columns[-1]] + list(toronto_onehot.columns[:-1])\n",
    "toronto_onehot = toronto_onehot[fixed_columns]\n",
    "\n",
    "print(toronto_onehot.shape)\n",
    "toronto_onehot.head()"
   ]
  },
  {
   "cell_type": "markdown",
   "metadata": {},
   "source": [
    "Finding the fraction/frequency of each category in a neighbourhood by grouping."
   ]
  },
  {
   "cell_type": "code",
   "execution_count": null,
   "metadata": {},
   "outputs": [],
   "source": [
    "toronto_grouped =toronto_onehot.groupby('Neighbourhood').mean().reset_index()\n",
    "print(toronto_grouped.shape)\n",
    "toronto_grouped.head()"
   ]
  },
  {
   "cell_type": "markdown",
   "metadata": {},
   "source": [
    "Block to view the 5 most frequent category in each neighbourhood."
   ]
  },
  {
   "cell_type": "code",
   "execution_count": null,
   "metadata": {
    "scrolled": true
   },
   "outputs": [],
   "source": [
    "num_top_venues = 5\n",
    "\n",
    "for hood in toronto_grouped['Neighbourhood']:\n",
    "    print(\"----\"+hood+\"----\")\n",
    "    temp = toronto_grouped[toronto_grouped['Neighbourhood'] == hood].T.reset_index()\n",
    "    temp.columns = ['venue','freq']\n",
    "    temp = temp.iloc[1:]\n",
    "    temp['freq'] = temp['freq'].astype(float)\n",
    "    temp = temp.round({'freq': 2})\n",
    "    print(temp.sort_values('freq', ascending=False).reset_index(drop=True).head(num_top_venues))\n",
    "    print('\\n')"
   ]
  },
  {
   "cell_type": "markdown",
   "metadata": {},
   "source": [
    "Now, we create a dataFrame which has the categories in a neighbourhood sorted by their frequency."
   ]
  },
  {
   "cell_type": "code",
   "execution_count": null,
   "metadata": {},
   "outputs": [],
   "source": [
    "def return_most_common_venues(row, num_top_venues):\n",
    "    row_categories = row.iloc[1:]\n",
    "    row_categories_sorted = row_categories.sort_values(ascending=False)\n",
    "    \n",
    "    return row_categories_sorted.index.values[0:num_top_venues]"
   ]
  },
  {
   "cell_type": "code",
   "execution_count": null,
   "metadata": {},
   "outputs": [],
   "source": [
    "num_top_venues = 10\n",
    "\n",
    "indicators = ['st', 'nd', 'rd']\n",
    "\n",
    "# create columns according to number of top venues\n",
    "columns = ['Neighbourhood']\n",
    "for ind in np.arange(num_top_venues):\n",
    "    try:\n",
    "        columns.append('{}{} Most Common Venue'.format(ind+1, indicators[ind]))\n",
    "    except:\n",
    "        columns.append('{}th Most Common Venue'.format(ind+1))\n",
    "\n",
    "# create a new dataframe\n",
    "toronto_venues_sorted = pd.DataFrame(columns=columns)\n",
    "toronto_venues_sorted['Neighbourhood'] = toronto_grouped['Neighbourhood']\n",
    "\n",
    "for ind in np.arange(toronto_grouped.shape[0]):\n",
    "    toronto_venues_sorted.iloc[ind, 1:] = return_most_common_venues(toronto_grouped.iloc[ind, :], num_top_venues)\n",
    "\n",
    "toronto_venues_sorted.head()"
   ]
  },
  {
   "cell_type": "markdown",
   "metadata": {},
   "source": [
    "Dropping the $Neighbourhood$ column to feed it to the model as the model cannot accept categorical variable in K-means."
   ]
  },
  {
   "cell_type": "code",
   "execution_count": null,
   "metadata": {},
   "outputs": [],
   "source": [
    "toronto_clustering = toronto_grouped.drop(\"Neighbourhood\",axis=1)\n",
    "toronto_clustering.head()"
   ]
  },
  {
   "cell_type": "markdown",
   "metadata": {},
   "source": [
    "Fitting the model with $no\\_of\\_clusters = 5$"
   ]
  },
  {
   "cell_type": "code",
   "execution_count": null,
   "metadata": {},
   "outputs": [],
   "source": [
    "# set number of clusters\n",
    "kclusters = 5\n",
    "\n",
    "# run k-means clustering\n",
    "kmeans = KMeans(n_clusters=kclusters, random_state=0).fit(toronto_clustering)\n",
    "\n",
    "# check cluster labels generated for each row in the dataframe\n",
    "kmeans.labels_[0:100] "
   ]
  },
  {
   "cell_type": "markdown",
   "metadata": {},
   "source": [
    "Creating a merged dataFrame which has the cluster label along with other details."
   ]
  },
  {
   "cell_type": "code",
   "execution_count": null,
   "metadata": {},
   "outputs": [],
   "source": [
    "# add clustering labels\n",
    "toronto_venues_sorted.insert(0, 'Cluster Labels', kmeans.labels_)\n",
    "\n",
    "toronto_merged = toronto_df\n",
    "\n",
    "# merge toronto_grouped with toronto_data to add latitude/longitude for each neighborhood\n",
    "toronto_merged = toronto_merged.join(toronto_venues_sorted.set_index('Neighbourhood'), on='Neighbourhood')\n",
    "\n",
    "toronto_merged.head() # check the last columns!"
   ]
  },
  {
   "cell_type": "markdown",
   "metadata": {},
   "source": [
    "Visualizing the clusters in the map using folium."
   ]
  },
  {
   "cell_type": "code",
   "execution_count": null,
   "metadata": {},
   "outputs": [],
   "source": [
    "# create map\n",
    "map_clusters = folium.Map(location=[latitude, longitude], zoom_start=12)\n",
    "\n",
    "# set color scheme for the clusters\n",
    "x = np.arange(kclusters)\n",
    "ys = [i + x + (i*x)**2 for i in range(kclusters)]\n",
    "colors_array = cm.rainbow(np.linspace(0, 1, len(ys)))\n",
    "rainbow = [colors.rgb2hex(i) for i in colors_array]\n",
    "\n",
    "# add markers to the map\n",
    "markers_colors = []\n",
    "for lat, lon, poi, cluster in zip(toronto_merged['Latitude'],toronto_merged['Longitude'], toronto_merged['Neighbourhood'], toronto_merged['Cluster Labels']):\n",
    "    label = folium.Popup(str(poi) + ' Cluster ' + str(cluster), parse_html=True)\n",
    "    folium.CircleMarker(\n",
    "        [lat, lon],\n",
    "        radius=5,\n",
    "        popup=label,\n",
    "        color=rainbow[cluster-1],\n",
    "        fill=True,\n",
    "        fill_color=rainbow[cluster-1],\n",
    "        fill_opacity=0.7).add_to(map_clusters)\n",
    "       \n",
    "map_clusters"
   ]
  },
  {
   "cell_type": "markdown",
   "metadata": {},
   "source": [
    "Viewing each cluster and its details."
   ]
  },
  {
   "cell_type": "code",
   "execution_count": null,
   "metadata": {},
   "outputs": [],
   "source": [
    "toronto_merged.loc[toronto_merged['Cluster Labels'] == 0, toronto_merged.columns[[1] + list(range(5, toronto_merged.shape[1]))]]"
   ]
  },
  {
   "cell_type": "code",
   "execution_count": null,
   "metadata": {},
   "outputs": [],
   "source": [
    "toronto_merged.loc[toronto_merged['Cluster Labels'] == 1, toronto_merged.columns[[1] + list(range(5, toronto_merged.shape[1]))]]"
   ]
  },
  {
   "cell_type": "code",
   "execution_count": null,
   "metadata": {},
   "outputs": [],
   "source": [
    "toronto_merged.loc[toronto_merged['Cluster Labels'] == 2, toronto_merged.columns[[1] + list(range(5, toronto_merged.shape[1]))]]"
   ]
  },
  {
   "cell_type": "code",
   "execution_count": null,
   "metadata": {},
   "outputs": [],
   "source": [
    "toronto_merged.loc[toronto_merged['Cluster Labels'] == 3, toronto_merged.columns[[1] + list(range(5, toronto_merged.shape[1]))]]"
   ]
  },
  {
   "cell_type": "code",
   "execution_count": null,
   "metadata": {},
   "outputs": [],
   "source": [
    "toronto_merged.loc[toronto_merged['Cluster Labels'] == 4, toronto_merged.columns[[1] + list(range(5, toronto_merged.shape[1]))]]"
   ]
  }
 ],
 "metadata": {
  "kernelspec": {
   "display_name": "Python 3.6.7 64-bit",
   "language": "python",
   "name": "python36764bitb4078c42e20c457aad221add00386046"
  },
  "language_info": {
   "codemirror_mode": {
    "name": "ipython",
    "version": 3
   },
   "file_extension": ".py",
   "mimetype": "text/x-python",
   "name": "python",
   "nbconvert_exporter": "python",
   "pygments_lexer": "ipython3",
   "version": "3.6.7"
  }
 },
 "nbformat": 4,
 "nbformat_minor": 2
}
