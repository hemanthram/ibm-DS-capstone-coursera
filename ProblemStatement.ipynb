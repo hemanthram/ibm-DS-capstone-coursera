{
 "cells": [
  {
   "cell_type": "markdown",
   "metadata": {},
   "source": [
    "# The Battle of Neighbourhoods\n",
    "### The Problem -\n",
    "In a city, there are a lot of nerighbourhoods. But are all these different from each other or are they the same in some aspects ? If we could answer this question, then it would be really easy for us to decide while moving over to a new area. In this project, we take the case of Toronto and analyze its neighbourhoods.\n",
    "### The Data -\n",
    "For basic information about the neighbourhoods, we can use Wikipedia's data. For information about the facilities in each neighbourhood $FourSquare$'s API can be used. Apart from that, we would need the geo coordinates of the neighbourhoods for which we can use the $geopy$ library in Python."
   ]
  }
 ],
 "metadata": {
  "kernelspec": {
   "display_name": "Python 3.6.7 64-bit",
   "language": "python",
   "name": "python36764bitb4078c42e20c457aad221add00386046"
  },
  "language_info": {
   "codemirror_mode": {
    "name": "ipython",
    "version": 3
   },
   "file_extension": ".py",
   "mimetype": "text/x-python",
   "name": "python",
   "nbconvert_exporter": "python",
   "pygments_lexer": "ipython3",
   "version": "3.6.7"
  }
 },
 "nbformat": 4,
 "nbformat_minor": 2
}
