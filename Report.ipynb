{
 "cells": [
  {
   "cell_type": "markdown",
   "metadata": {},
   "source": [
    "# The Battle of Neighbourhoods\n",
    "### The Problem -\n",
    "In a city, there are a lot of nerighbourhoods. But are all these different from each other or are they the same in some aspects ? If we could answer this question, then it would be really easy for us to decide while moving over to a new area. In this project, we take the case of Toronto and analyze its neighbourhoods.\n",
    "### The Data -\n",
    "For basic information about the neighbourhoods, we can use Wikipedia's data :\n",
    "https://en.wikipedia.org/wiki/List_of_postal_codes_of_Canada:_M  \n",
    "For information about the facilities in each neighbourhood $FourSquare$'s API can be used. Apart from that, we would need the geo coordinates of the neighbourhoods for which we can use the $geopy$ library in Python.\n",
    "### Methodology -\n",
    "The key algorithm used in our analysis in K-Means Clustering. The neighbourhoods were first encoded with whether or not they contain a particular category of venue and then the corresponding category's frequency was also calculated for each. Now, K-Means was used to cluster the different neighbourhoods.\n",
    "### Observations -\n",
    "The following clusters were obtained after analysis :  \n",
    "![title](./map.png)  \n",
    "So, it can be seen that almost 80% percent of the neighbourhoods are similar in nature with a high amount of eateries as their major category. The red cluster was found to have a large amount public places like parks, gardens and trails. The other clusters which have only one member were found to be very different from others with very less amount of entertainment spots, indicating less population density in those places. So, now having all these information, one can decide a place to move of his own interests. \n",
    "### Conclusion -\n",
    "So, this analysis can now be applied to any city, given that enough data is available for that city."
   ]
  }
 ],
 "metadata": {
  "kernelspec": {
   "display_name": "Python 3.6.7 64-bit",
   "language": "python",
   "name": "python36764bitb4078c42e20c457aad221add00386046"
  },
  "language_info": {
   "codemirror_mode": {
    "name": "ipython",
    "version": 3
   },
   "file_extension": ".py",
   "mimetype": "text/x-python",
   "name": "python",
   "nbconvert_exporter": "python",
   "pygments_lexer": "ipython3",
   "version": "3.6.7"
  }
 },
 "nbformat": 4,
 "nbformat_minor": 2
}
